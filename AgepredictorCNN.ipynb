{
    "cells": [
        {
            "cell_type": "code",
            "execution_count": 1,
            "source": [
                "import torch\r\n",
                "import numpy as np\r\n",
                "import torchvision"
            ],
            "outputs": [],
            "metadata": {}
        },
        {
            "cell_type": "code",
            "execution_count": null,
            "source": [
                "import os\r\n",
                "from shutil import copyfile"
            ],
            "outputs": [],
            "metadata": {}
        },
        {
            "cell_type": "code",
            "execution_count": null,
            "source": [
                "class DataSplitter:\r\n",
                "    def __init__(self, part):\r\n",
                "        self.part = part\r\n",
                "\r\n",
                "    def split(self, folder, train, test):\r\n",
                "        filenames = os.listdir(folder)\r\n",
                "        #print(filenames)\r\n",
                "        for (i, fname) in enumerate(filenames):\r\n",
                "            src = os.path.join(folder, fname)\r\n",
                "            if (i % self.part) == 0:\r\n",
                "                dst = os.path.join(test, fname)\r\n",
                "            else:\r\n",
                "                dst = os.path.join(train, fname)\r\n",
                "            #print(src, dst)\r\n",
                "            copyfile(src, dst)"
            ],
            "outputs": [],
            "metadata": {}
        },
        {
            "cell_type": "code",
            "execution_count": null,
            "source": [
                "# 10% of the data will be used for validation\r\n",
                "ds = DataSplitter(10)\r\n",
                "ds.split(r\"D:\\Python Projects\\AgePredictor\\UTKFace\", r\"D:\\Python Projects\\AgePredictor\\Training\", r\"D:\\Python Projects\\AgePredictor\\Testing\")"
            ],
            "outputs": [],
            "metadata": {}
        },
        {
            "cell_type": "markdown",
            "source": [],
            "metadata": {}
        },
        {
            "cell_type": "code",
            "execution_count": null,
            "source": [
                "# split training into folders\r\n",
                "dir = r\"D:\\Python Projects\\AgePredictor\\Training\"+\"\\\\\"\r\n",
                "filenames = os.listdir(dir)\r\n",
                "for file in filenames:\r\n",
                "    \r\n",
                "    age = int(file.split(\"_\")[0])\r\n",
                "    full = dir+file\r\n",
                "    \r\n",
                "    if age < 11:\r\n",
                "        os.rename(full,r\"D:\\Python Projects\\AgePredictor\\train\\0to10\\\\\"+file)\r\n",
                "    elif age < 21:\r\n",
                "        os.rename(full,r\"D:\\Python Projects\\AgePredictor\\train\\\\11to20\\\\\"+file)\r\n",
                "    elif age < 31:\r\n",
                "        os.rename(full,r\"D:\\Python Projects\\AgePredictor\\train\\\\21to30\\\\\"+file)\r\n",
                "    elif age < 41:\r\n",
                "        os.rename(full,r\"D:\\Python Projects\\AgePredictor\\train\\\\31to40\\\\\"+file)\r\n",
                "    elif age < 61:\r\n",
                "        os.rename(full,r\"D:\\Python Projects\\AgePredictor\\train\\\\41to60\\\\\"+file)\r\n",
                "    else:\r\n",
                "        os.rename(full,r\"D:\\Python Projects\\AgePredictor\\train\\\\61plus\\\\\"+file)\r\n"
            ],
            "outputs": [],
            "metadata": {}
        },
        {
            "cell_type": "code",
            "execution_count": null,
            "source": [
                "# split test into folders\r\n",
                "dir = r\"D:\\Python Projects\\AgePredictor\\Testing\"+\"\\\\\"\r\n",
                "filenames = os.listdir(dir)\r\n",
                "for file in filenames:\r\n",
                "    \r\n",
                "    age = int(file.split(\"_\")[0])\r\n",
                "    full = dir+file\r\n",
                "    \r\n",
                "    if age < 11:\r\n",
                "        os.rename(full,r\"D:\\Python Projects\\AgePredictor\\test\\0to10\\\\\"+file)\r\n",
                "    elif age < 21:\r\n",
                "        os.rename(full,r\"D:\\Python Projects\\AgePredictor\\test\\\\11to20\\\\\"+file)\r\n",
                "    elif age < 31:\r\n",
                "        os.rename(full,r\"D:\\Python Projects\\AgePredictor\\test\\\\21to30\\\\\"+file)\r\n",
                "    elif age < 41:\r\n",
                "        os.rename(full,r\"D:\\Python Projects\\AgePredictor\\test\\\\31to40\\\\\"+file)\r\n",
                "    elif age < 61:\r\n",
                "        os.rename(full,r\"D:\\Python Projects\\AgePredictor\\test\\\\41to60\\\\\"+file)\r\n",
                "    else:\r\n",
                "        os.rename(full,r\"D:\\Python Projects\\AgePredictor\\test\\\\61plus\\\\\"+file)\r\n"
            ],
            "outputs": [],
            "metadata": {}
        },
        {
            "cell_type": "code",
            "execution_count": 16,
            "source": [
                "# Pytorch model creation\r\n",
                "import torch\r\n",
                "import torchvision\r\n",
                "from torchvision import transforms\r\n",
                "from torchvision.datasets import ImageFolder"
            ],
            "outputs": [],
            "metadata": {}
        },
        {
            "cell_type": "code",
            "execution_count": 17,
            "source": [
                "#train and test data directory\r\n",
                "train_dir = r\"D:\\Python Projects\\AgePredictor\\train\"\r\n",
                "test_dir = r\"D:\\Python Projects\\AgePredictor\\test\""
            ],
            "outputs": [],
            "metadata": {}
        },
        {
            "cell_type": "code",
            "execution_count": 18,
            "source": [
                "#load the train and test data\r\n",
                "dataset = ImageFolder(train_dir,transform = transforms.Compose([\r\n",
                "    transforms.Resize((150,150)),transforms.ToTensor()\r\n",
                "]))\r\n",
                "test_dataset = ImageFolder(test_dir,transforms.Compose([\r\n",
                "    transforms.Resize((150,150)),transforms.ToTensor()\r\n",
                "]))"
            ],
            "outputs": [],
            "metadata": {}
        },
        {
            "cell_type": "code",
            "execution_count": 19,
            "source": [
                "img, label = dataset[0]\r\n",
                "print(img.shape,label)"
            ],
            "outputs": [
                {
                    "output_type": "stream",
                    "name": "stdout",
                    "text": [
                        "torch.Size([3, 150, 150]) 0\n"
                    ]
                }
            ],
            "metadata": {}
        },
        {
            "cell_type": "code",
            "execution_count": 20,
            "source": [
                "dataset.classes"
            ],
            "outputs": [
                {
                    "output_type": "execute_result",
                    "data": {
                        "text/plain": [
                            "['0to10', '11to20', '21to30', '31to40', '41to60', '61plus']"
                        ]
                    },
                    "metadata": {},
                    "execution_count": 20
                }
            ],
            "metadata": {}
        },
        {
            "cell_type": "code",
            "execution_count": 21,
            "source": [
                "from torch.utils.data.dataloader import DataLoader\r\n",
                "from torch.utils.data import random_split"
            ],
            "outputs": [],
            "metadata": {}
        },
        {
            "cell_type": "code",
            "execution_count": 22,
            "source": [
                "batch_size = 128\r\n",
                "val_size = 2000\r\n",
                "train_size = len(dataset) - val_size\r\n",
                "\r\n",
                "train_data,val_data = random_split(dataset,[train_size,val_size])\r\n",
                "print(f\"Length of Train Data : {len(train_data)}\")\r\n",
                "print(f\"Length of Validation Data : {len(val_data)}\")"
            ],
            "outputs": [
                {
                    "output_type": "stream",
                    "name": "stdout",
                    "text": [
                        "Length of Train Data : 19277\n",
                        "Length of Validation Data : 2000\n"
                    ]
                }
            ],
            "metadata": {}
        },
        {
            "cell_type": "code",
            "execution_count": 23,
            "source": [
                "train_dl = DataLoader(train_data, batch_size, shuffle = True, num_workers = 4, pin_memory = True)\r\n",
                "val_dl = DataLoader(val_data, batch_size*2, num_workers = 4, pin_memory = True)"
            ],
            "outputs": [],
            "metadata": {}
        },
        {
            "cell_type": "code",
            "execution_count": 24,
            "source": [
                "# make a class that extends the functionality of torch.nn.Module\r\n",
                "\r\n",
                "import torch.nn as nn\r\n",
                "import torch.nn.functional as F\r\n",
                "\r\n"
            ],
            "outputs": [],
            "metadata": {}
        },
        {
            "cell_type": "code",
            "execution_count": 25,
            "source": [
                "class ImageClassificationBase(nn.Module):\r\n",
                "    \r\n",
                "    def training_step(self, batch):\r\n",
                "        images, labels = batch \r\n",
                "        out = self(images)                  # Generate predictions\r\n",
                "        loss = F.cross_entropy(out, labels) # Calculate loss\r\n",
                "        return loss\r\n",
                "    \r\n",
                "    def validation_step(self, batch):\r\n",
                "        images, labels = batch \r\n",
                "        out = self(images)                    # Generate predictions\r\n",
                "        loss = F.cross_entropy(out, labels)   # Calculate loss\r\n",
                "        acc = accuracy(out, labels)           # Calculate accuracy\r\n",
                "        return {'val_loss': loss.detach(), 'val_acc': acc}\r\n",
                "        \r\n",
                "    def validation_epoch_end(self, outputs):\r\n",
                "        batch_losses = [x['val_loss'] for x in outputs]\r\n",
                "        epoch_loss = torch.stack(batch_losses).mean()   # Combine losses\r\n",
                "        batch_accs = [x['val_acc'] for x in outputs]\r\n",
                "        epoch_acc = torch.stack(batch_accs).mean()      # Combine accuracies\r\n",
                "        return {'val_loss': epoch_loss.item(), 'val_acc': epoch_acc.item()}\r\n",
                "    \r\n",
                "    def epoch_end(self, epoch, result):\r\n",
                "        print(\"Epoch [{}], train_loss: {:.4f}, val_loss: {:.4f}, val_acc: {:.4f}\".format(\r\n",
                "            epoch, result['train_loss'], result['val_loss'], result['val_acc']))"
            ],
            "outputs": [],
            "metadata": {}
        },
        {
            "cell_type": "code",
            "execution_count": 26,
            "source": [
                "\r\n",
                "class AgeClassification(ImageClassificationBase):\r\n",
                "    def __init__(self):\r\n",
                "        super().__init__()\r\n",
                "        self.network = nn.Sequential(\r\n",
                "            \r\n",
                "            nn.Conv2d(3, 32, kernel_size = 3, padding = 1),\r\n",
                "            nn.ReLU(),\r\n",
                "            nn.Conv2d(32,64, kernel_size = 3, stride = 1, padding = 1),\r\n",
                "            nn.ReLU(),\r\n",
                "            nn.MaxPool2d(2,2),\r\n",
                "        \r\n",
                "            nn.Conv2d(64, 128, kernel_size = 3, stride = 1, padding = 1),\r\n",
                "            nn.ReLU(),\r\n",
                "            nn.Conv2d(128 ,128, kernel_size = 3, stride = 1, padding = 1),\r\n",
                "            nn.ReLU(),\r\n",
                "            nn.MaxPool2d(2,2),\r\n",
                "            \r\n",
                "            nn.Conv2d(128, 256, kernel_size = 3, stride = 1, padding = 1),\r\n",
                "            nn.ReLU(),\r\n",
                "            nn.Conv2d(256,256, kernel_size = 3, stride = 1, padding = 1),\r\n",
                "            nn.ReLU(),\r\n",
                "            nn.MaxPool2d(2,2),\r\n",
                "            \r\n",
                "            nn.Flatten(),\r\n",
                "            nn.Linear(82944,1024),\r\n",
                "            nn.ReLU(),\r\n",
                "            nn.Linear(1024, 512),\r\n",
                "            nn.ReLU(),\r\n",
                "            nn.Linear(512,6)\r\n",
                "        )\r\n",
                "    \r\n",
                "    def forward(self, xb):\r\n",
                "        return self.network(xb)"
            ],
            "outputs": [],
            "metadata": {}
        },
        {
            "cell_type": "code",
            "execution_count": 27,
            "source": [
                "def accuracy(outputs, labels):\r\n",
                "    _, preds = torch.max(outputs, dim=1)\r\n",
                "    return torch.tensor(torch.sum(preds == labels).item() / len(preds))\r\n",
                "\r\n",
                "  \r\n",
                "@torch.no_grad()\r\n",
                "def evaluate(model, val_loader):\r\n",
                "    model.eval()\r\n",
                "    outputs = [model.validation_step(batch) for batch in val_loader]\r\n",
                "    return model.validation_epoch_end(outputs)\r\n",
                "\r\n",
                "  \r\n",
                "def fit(epochs, lr, model, train_loader, val_loader, opt_func = torch.optim.SGD):\r\n",
                "    \r\n",
                "    history = []\r\n",
                "    optimizer = opt_func(model.parameters(),lr)\r\n",
                "    for epoch in range(epochs):\r\n",
                "        \r\n",
                "        model.train()\r\n",
                "        train_losses = []\r\n",
                "        for batch in train_loader:\r\n",
                "            loss = model.training_step(batch)\r\n",
                "            train_losses.append(loss)\r\n",
                "            loss.backward()\r\n",
                "            optimizer.step()\r\n",
                "            optimizer.zero_grad()\r\n",
                "            \r\n",
                "        result = evaluate(model, val_loader)\r\n",
                "        result['train_loss'] = torch.stack(train_losses).mean().item()\r\n",
                "        model.epoch_end(epoch, result)\r\n",
                "        history.append(result)\r\n",
                "    \r\n",
                "    return history"
            ],
            "outputs": [],
            "metadata": {}
        },
        {
            "cell_type": "code",
            "execution_count": null,
            "source": [
                "# Device configuration\r\n",
                "device = torch.device('cuda' if torch.cuda.is_available() else 'cpu')"
            ],
            "outputs": [],
            "metadata": {}
        },
        {
            "cell_type": "code",
            "execution_count": 28,
            "source": [
                "num_epochs = 1\r\n",
                "opt_func = torch.optim.Adam\r\n",
                "lr = 0.001\r\n",
                "model = AgeClassification().to(device)\r\n",
                "#fitting the model on training data and record the result after each epoch\r\n",
                "history = fit(num_epochs, lr, model, train_dl, val_dl, opt_func)"
            ],
            "outputs": [
                {
                    "output_type": "stream",
                    "name": "stdout",
                    "text": [
                        "Epoch [0], train_loss: 1.4423, val_loss: 1.2181, val_acc: 0.5091\n"
                    ]
                }
            ],
            "metadata": {}
        },
        {
            "cell_type": "code",
            "execution_count": null,
            "source": [],
            "outputs": [],
            "metadata": {}
        }
    ],
    "metadata": {
        "orig_nbformat": 4,
        "language_info": {
            "name": "python",
            "version": "3.8.5",
            "mimetype": "text/x-python",
            "codemirror_mode": {
                "name": "ipython",
                "version": 3
            },
            "pygments_lexer": "ipython3",
            "nbconvert_exporter": "python",
            "file_extension": ".py"
        },
        "kernelspec": {
            "name": "python3",
            "display_name": "Python 3.8.5 64-bit ('PytorchVS': conda)"
        },
        "interpreter": {
            "hash": "f9de795ee7e4b84a37ca8c2e2c979dd3cfd75580105ed1b581816aba772ecc54"
        }
    },
    "nbformat": 4,
    "nbformat_minor": 2
}