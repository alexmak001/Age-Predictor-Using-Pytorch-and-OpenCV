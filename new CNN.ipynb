{
 "cells": [
  {
   "cell_type": "code",
   "execution_count": 11,
   "source": [
    "import torch\r\n",
    "import torch.nn as nn\r\n",
    "import torch.nn.functional as F\r\n",
    "import torchvision\r\n",
    "import torchvision.transforms as transforms\r\n",
    "import matplotlib.pyplot as plt\r\n",
    "import numpy as np\r\n",
    "from torchvision.datasets import ImageFolder"
   ],
   "outputs": [],
   "metadata": {}
  },
  {
   "cell_type": "code",
   "execution_count": 12,
   "source": [
    "import os"
   ],
   "outputs": [],
   "metadata": {}
  },
  {
   "cell_type": "code",
   "execution_count": 2,
   "source": [
    "# Device configuration\r\n",
    "device = torch.device('cuda' if torch.cuda.is_available() else 'cpu')"
   ],
   "outputs": [],
   "metadata": {}
  },
  {
   "cell_type": "code",
   "execution_count": 8,
   "source": [
    "# Hyper-parameters \r\n",
    "num_epochs = 3\r\n",
    "batch_size = 128\r\n",
    "learning_rate = 0.001"
   ],
   "outputs": [],
   "metadata": {}
  },
  {
   "cell_type": "code",
   "execution_count": 4,
   "source": [
    "#train and test data directory\r\n",
    "train_dir = r\"D:\\Python Projects\\AgePredictor\\train\"\r\n",
    "test_dir = r\"D:\\Python Projects\\AgePredictor\\test\""
   ],
   "outputs": [],
   "metadata": {}
  },
  {
   "cell_type": "code",
   "execution_count": 28,
   "source": [
    "# dataset has PILImage images of range [0, 1]. \r\n",
    "# We transform them to Tensors of normalized range [-1, 1]\r\n",
    "transform = transforms.Compose(\r\n",
    "    [transforms.ToTensor(),\r\n",
    "    transforms.Compose([transforms.Resize((32,32))])])"
   ],
   "outputs": [],
   "metadata": {}
  },
  {
   "cell_type": "code",
   "execution_count": 29,
   "source": [
    "#load the train and test data\r\n",
    "dataset = ImageFolder(train_dir,transform=transform)\r\n",
    "test_dataset = ImageFolder(test_dir,transform=transform)"
   ],
   "outputs": [],
   "metadata": {}
  },
  {
   "cell_type": "code",
   "execution_count": 30,
   "source": [
    "#initiate data loaders\r\n",
    "train_loader = torch.utils.data.DataLoader(dataset, batch_size=batch_size,\r\n",
    "                                          shuffle=True)\r\n",
    "\r\n",
    "test_loader = torch.utils.data.DataLoader(test_dataset, batch_size=batch_size,\r\n",
    "                                         shuffle=False)"
   ],
   "outputs": [],
   "metadata": {}
  },
  {
   "cell_type": "code",
   "execution_count": 31,
   "source": [
    "classes = os.listdir(\"test\")\r\n",
    "classes"
   ],
   "outputs": [
    {
     "output_type": "execute_result",
     "data": {
      "text/plain": [
       "['0to10', '11to20', '21to30', '31to40', '41to60', '61plus']"
      ]
     },
     "metadata": {},
     "execution_count": 31
    }
   ],
   "metadata": {}
  },
  {
   "cell_type": "code",
   "execution_count": 32,
   "source": [
    "class ConvNet(nn.Module):\r\n",
    "    def __init__(self):\r\n",
    "        super(ConvNet, self).__init__()\r\n",
    "        self.conv1 = nn.Conv2d(3, 6, 5) #3 color channels, output is 6, kernel is 5\r\n",
    "        self.pool = nn.MaxPool2d(2, 2) #stride is 2\r\n",
    "        self.conv2 = nn.Conv2d(6, 16, 5) #input 6 must be equal to last output size\r\n",
    "        self.fc1 = nn.Linear(16 * 5 * 5, 120) # afer both convulation and pooling layers the size is 16*5*5\r\n",
    "        self.fc2 = nn.Linear(120, 84) # now it has been flatnned and is like a regular NN\r\n",
    "        self.fc3 = nn.Linear(84, 6)\r\n",
    "\r\n",
    "    def forward(self, x):\r\n",
    "        # -> n, 3, 32, 32\r\n",
    "        x = self.pool(F.relu(self.conv1(x)))  # -> n, 6, 14, 14\r\n",
    "        x = self.pool(F.relu(self.conv2(x)))  # -> n, 16, 5, 5\r\n",
    "        x = x.view(-1, 16 * 5 * 5)            # -> n, 400 tensor is flattened\r\n",
    "        x = F.relu(self.fc1(x))               # -> n, 120\r\n",
    "        x = F.relu(self.fc2(x))               # -> n, 84\r\n",
    "        x = self.fc3(x)                       # -> n, 6\r\n",
    "        return x"
   ],
   "outputs": [],
   "metadata": {}
  },
  {
   "cell_type": "code",
   "execution_count": 33,
   "source": [
    "model = ConvNet().to(device)"
   ],
   "outputs": [],
   "metadata": {}
  },
  {
   "cell_type": "code",
   "execution_count": 34,
   "source": [
    "criterion = nn.CrossEntropyLoss()\r\n",
    "optimizer = torch.optim.SGD(model.parameters(), lr=learning_rate)"
   ],
   "outputs": [],
   "metadata": {}
  },
  {
   "cell_type": "code",
   "execution_count": 35,
   "source": [
    "n_total_steps = len(train_loader)\r\n",
    "for epoch in range(num_epochs):\r\n",
    "    for i, (images, labels) in enumerate(train_loader):\r\n",
    "        # origin shape: [4, 3, 32, 32] = 4, 3, 1024\r\n",
    "        # input_layer: 3 input channels, 6 output channels, 5 kernel size\r\n",
    "        images = images.to(device)\r\n",
    "        labels = labels.to(device)\r\n",
    "\r\n",
    "        # Forward pass\r\n",
    "        outputs = model(images)\r\n",
    "        loss = criterion(outputs, labels)\r\n",
    "\r\n",
    "        # Backward and optimize\r\n",
    "        optimizer.zero_grad()\r\n",
    "        loss.backward()\r\n",
    "        optimizer.step()\r\n",
    "\r\n",
    "        if (i+1) % 2000 == 0:\r\n",
    "            print (f'Epoch [{epoch+1}/{num_epochs}], Step [{i+1}/{n_total_steps}], Loss: {loss.item():.4f}')\r\n",
    "print('Finished Training')\r\n"
   ],
   "outputs": [
    {
     "output_type": "stream",
     "name": "stdout",
     "text": [
      "Finished Training\n"
     ]
    }
   ],
   "metadata": {}
  },
  {
   "cell_type": "code",
   "execution_count": 40,
   "source": [
    "PATH = './cnn.pth'\r\n",
    "torch.save(model.state_dict(), PATH)\r\n",
    "\r\n",
    "with torch.no_grad():\r\n",
    "    n_correct = 0\r\n",
    "    n_samples = 0\r\n",
    "    n_class_correct = [0 for i in range(10)]\r\n",
    "    n_class_samples = [0 for i in range(10)]\r\n",
    "    for images, labels in test_loader:\r\n",
    "        images = images.to(device)\r\n",
    "        labels = labels.to(device)\r\n",
    "        outputs = model(images)\r\n",
    "        # max returns (value ,index)\r\n",
    "        _, predicted = torch.max(outputs, 1)\r\n",
    "        n_samples += labels.size(0)\r\n",
    "        n_correct += (predicted == labels).sum().item()\r\n",
    "        \r\n",
    "        for i in range(batch_size):\r\n",
    "            #print(batch_size)\r\n",
    "            try:\r\n",
    "                label = labels[i]\r\n",
    "                pred = predicted[i]\r\n",
    "                if (label == pred):\r\n",
    "                    n_class_correct[label] += 1\r\n",
    "                n_class_samples[label] += 1\r\n",
    "            except  IndexError:\r\n",
    "                pass\r\n",
    "\r\n",
    "    acc = 100.0 * n_correct / n_samples\r\n",
    "    print(f'Accuracy of the network: {acc} %')\r\n",
    "\r\n",
    "    "
   ],
   "outputs": [
    {
     "output_type": "stream",
     "name": "stdout",
     "text": [
      "Accuracy of the network: 32.813159004639395 %\n"
     ]
    }
   ],
   "metadata": {}
  },
  {
   "cell_type": "code",
   "execution_count": 42,
   "source": [
    "for i in range(6):\r\n",
    "        acc = 100.0 * n_class_correct[i] / n_class_samples[i]\r\n",
    "        print(f'Accuracy of {classes[i]}: {acc} %')"
   ],
   "outputs": [
    {
     "output_type": "stream",
     "name": "stdout",
     "text": [
      "Accuracy of 0to10: 0.0 %\n",
      "Accuracy of 11to20: 0.0 %\n",
      "Accuracy of 21to30: 100.0 %\n",
      "Accuracy of 31to40: 0.0 %\n",
      "Accuracy of 41to60: 0.0 %\n",
      "Accuracy of 61plus: 0.0 %\n"
     ]
    }
   ],
   "metadata": {}
  },
  {
   "cell_type": "code",
   "execution_count": 48,
   "source": [
    "dummy_input = torch.randn(1, 3, 32, 32).to(device)\r\n",
    "input_names = [ \"actual_input\" ]\r\n",
    "output_names = [ \"output\" ]\r\n",
    "model.eval()"
   ],
   "outputs": [
    {
     "output_type": "execute_result",
     "data": {
      "text/plain": [
       "ConvNet(\n",
       "  (conv1): Conv2d(3, 6, kernel_size=(5, 5), stride=(1, 1))\n",
       "  (pool): MaxPool2d(kernel_size=2, stride=2, padding=0, dilation=1, ceil_mode=False)\n",
       "  (conv2): Conv2d(6, 16, kernel_size=(5, 5), stride=(1, 1))\n",
       "  (fc1): Linear(in_features=400, out_features=120, bias=True)\n",
       "  (fc2): Linear(in_features=120, out_features=84, bias=True)\n",
       "  (fc3): Linear(in_features=84, out_features=6, bias=True)\n",
       ")"
      ]
     },
     "metadata": {},
     "execution_count": 48
    }
   ],
   "metadata": {}
  },
  {
   "cell_type": "code",
   "execution_count": 49,
   "source": [
    "# export as onnx\r\n",
    "torch.onnx.export(model, \r\n",
    "                  dummy_input,\r\n",
    "                  \"agepred.onnx\",\r\n",
    "                  verbose=False,\r\n",
    "                  input_names=input_names,\r\n",
    "                  output_names=output_names,\r\n",
    "                  export_params=True,\r\n",
    "                  )"
   ],
   "outputs": [],
   "metadata": {}
  },
  {
   "cell_type": "code",
   "execution_count": null,
   "source": [],
   "outputs": [],
   "metadata": {}
  }
 ],
 "metadata": {
  "orig_nbformat": 4,
  "language_info": {
   "name": "python",
   "version": "3.8.5",
   "mimetype": "text/x-python",
   "codemirror_mode": {
    "name": "ipython",
    "version": 3
   },
   "pygments_lexer": "ipython3",
   "nbconvert_exporter": "python",
   "file_extension": ".py"
  },
  "kernelspec": {
   "name": "python3",
   "display_name": "Python 3.8.5 64-bit ('PytorchVS': conda)"
  },
  "interpreter": {
   "hash": "f9de795ee7e4b84a37ca8c2e2c979dd3cfd75580105ed1b581816aba772ecc54"
  }
 },
 "nbformat": 4,
 "nbformat_minor": 2
}